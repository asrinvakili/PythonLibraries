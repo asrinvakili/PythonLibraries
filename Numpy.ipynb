{
  "nbformat": 4,
  "nbformat_minor": 0,
  "metadata": {
    "colab": {
      "provenance": [],
      "authorship_tag": "ABX9TyOjiS7eoP1fhCfbegI9Q+JX",
      "include_colab_link": true
    },
    "kernelspec": {
      "name": "python3",
      "display_name": "Python 3"
    },
    "language_info": {
      "name": "python"
    }
  },
  "cells": [
    {
      "cell_type": "markdown",
      "metadata": {
        "id": "view-in-github",
        "colab_type": "text"
      },
      "source": [
        "<a href=\"https://colab.research.google.com/github/asrinvakili/PythonLibraries/blob/main/Numpy.ipynb\" target=\"_parent\"><img src=\"https://colab.research.google.com/assets/colab-badge.svg\" alt=\"Open In Colab\"/></a>"
      ]
    },
    {
      "cell_type": "markdown",
      "source": [
        "# Installation of Numpy:\n",
        "\n",
        "*     *pip install numpy*"
      ],
      "metadata": {
        "id": "GyXLcdSZqwiP"
      }
    },
    {
      "cell_type": "markdown",
      "source": [
        "## Import Numpy"
      ],
      "metadata": {
        "id": "Xh3Dildhq8N3"
      }
    },
    {
      "cell_type": "code",
      "source": [
        "import numpy as np"
      ],
      "metadata": {
        "id": "HBsVI77trAC5"
      },
      "execution_count": null,
      "outputs": []
    },
    {
      "cell_type": "code",
      "source": [
        "#create numpy array from list\n",
        "\n",
        "x1 = np.array([1,2,3,4])\n",
        "\n",
        "x1"
      ],
      "metadata": {
        "id": "IPd2IpS9rdYX"
      },
      "execution_count": null,
      "outputs": []
    },
    {
      "cell_type": "code",
      "source": [
        "#create numpy 2d array from list\n",
        "\n",
        "x2 = np.array(([1,2,3,4],[5,6,7,8]))\n",
        "\n",
        "x2"
      ],
      "metadata": {
        "id": "ZKobB1wRrCJP"
      },
      "execution_count": null,
      "outputs": []
    },
    {
      "cell_type": "code",
      "source": [
        "#create 2d numpy array filled with zero\n",
        "\n",
        "x3 = np.zeros((5,3))\n",
        "\n",
        "x3"
      ],
      "metadata": {
        "id": "0caGGESurmO5"
      },
      "execution_count": null,
      "outputs": []
    },
    {
      "cell_type": "code",
      "source": [
        "#create 2d numpy array filled with one\n",
        "\n",
        "x4 = np.ones((3,4))\n",
        "\n",
        "x4"
      ],
      "metadata": {
        "id": "vYQ9-hC-rqiL"
      },
      "execution_count": null,
      "outputs": []
    },
    {
      "cell_type": "code",
      "source": [
        "#create 2d numpy array filled with random number\n",
        "\n",
        "x5 = np.random.rand(3,4)\n",
        "\n",
        "x5"
      ],
      "metadata": {
        "id": "jy0SM5Odr2_7"
      },
      "execution_count": null,
      "outputs": []
    },
    {
      "cell_type": "markdown",
      "source": [
        "## Slicing:"
      ],
      "metadata": {
        "id": "N-GY44NgsImI"
      }
    },
    {
      "cell_type": "code",
      "source": [
        "x2"
      ],
      "metadata": {
        "id": "hzZrPsv_sLUs"
      },
      "execution_count": null,
      "outputs": []
    },
    {
      "cell_type": "code",
      "source": [
        "x2[0,1:]"
      ],
      "metadata": {
        "id": "Bhw8P_XPsQPp"
      },
      "execution_count": null,
      "outputs": []
    },
    {
      "cell_type": "code",
      "source": [
        "x2[:,2:]"
      ],
      "metadata": {
        "id": "YmmqlHcLsTFa"
      },
      "execution_count": null,
      "outputs": []
    },
    {
      "cell_type": "code",
      "source": [
        "x2[:,:2]"
      ],
      "metadata": {
        "id": "5T5iHD0VsUtF"
      },
      "execution_count": null,
      "outputs": []
    },
    {
      "cell_type": "code",
      "source": [
        "x2[1,2]"
      ],
      "metadata": {
        "id": "YPABbhgNsXrL"
      },
      "execution_count": null,
      "outputs": []
    },
    {
      "cell_type": "markdown",
      "source": [
        "## Operations:"
      ],
      "metadata": {
        "id": "sAMnkrCMt_NX"
      }
    },
    {
      "cell_type": "code",
      "source": [
        "a = np.array([1, 2, 3])\n",
        "b = np.array([4, 5, 6])"
      ],
      "metadata": {
        "id": "3sfMozIBuC1x"
      },
      "execution_count": null,
      "outputs": []
    },
    {
      "cell_type": "code",
      "source": [
        "c1 = a + b\n",
        "\n",
        "c1"
      ],
      "metadata": {
        "id": "iPeGIMaFuXwp"
      },
      "execution_count": null,
      "outputs": []
    },
    {
      "cell_type": "code",
      "source": [
        "c2 = a * b\n",
        "\n",
        "c2"
      ],
      "metadata": {
        "id": "2J5ioOLVuZqp"
      },
      "execution_count": null,
      "outputs": []
    },
    {
      "cell_type": "code",
      "source": [
        "c3 = np.sum(a)\n",
        "\n",
        "c3"
      ],
      "metadata": {
        "id": "EtmKVcIcugS8"
      },
      "execution_count": null,
      "outputs": []
    },
    {
      "cell_type": "code",
      "source": [
        "#broadcasting\n",
        "m = np.array(([1, 2, 3], [4, 5, 6]))\n",
        "n = np.array([10, 20, 30])\n",
        "c4 = m + n\n",
        "\n",
        "c4"
      ],
      "metadata": {
        "id": "rH34oyzFuvdc"
      },
      "execution_count": null,
      "outputs": []
    },
    {
      "cell_type": "code",
      "source": [
        "#Reshape\n",
        "w = np.array([1, 2, 3, 4, 5, 6])"
      ],
      "metadata": {
        "id": "jQIQPo9DvMsJ"
      },
      "execution_count": null,
      "outputs": []
    },
    {
      "cell_type": "code",
      "source": [
        "c5 = w.reshape(2, 3)\n",
        "\n",
        "c5"
      ],
      "metadata": {
        "id": "p2EESVijvXCT"
      },
      "execution_count": null,
      "outputs": []
    },
    {
      "cell_type": "code",
      "source": [
        "c6 = w.reshape(3, 2)\n",
        "\n",
        "c6"
      ],
      "metadata": {
        "id": "XLJR_Gjwvg0L"
      },
      "execution_count": null,
      "outputs": []
    },
    {
      "cell_type": "code",
      "source": [
        "#Conditions\n",
        "\n",
        "w = np.array([1, 2, 3, 4, 5, 6])\n",
        "\n",
        "w"
      ],
      "metadata": {
        "id": "dcU1bV6PvwCT"
      },
      "execution_count": null,
      "outputs": []
    },
    {
      "cell_type": "code",
      "source": [
        "condition = w > 2\n",
        "\n",
        "condition"
      ],
      "metadata": {
        "id": "oZTjmEMKwBx3"
      },
      "execution_count": null,
      "outputs": []
    },
    {
      "cell_type": "code",
      "source": [
        "c7 = w[condition]"
      ],
      "metadata": {
        "id": "bdqw9UkEwF57"
      },
      "execution_count": null,
      "outputs": []
    },
    {
      "cell_type": "markdown",
      "source": [
        "## Mathematical Functional:"
      ],
      "metadata": {
        "id": "CjqcmtvdwO1r"
      }
    },
    {
      "cell_type": "code",
      "source": [
        "w = np.array([1, 2, 3, 4, 5, 6])\n",
        "\n",
        "w"
      ],
      "metadata": {
        "id": "81Jngp1-wTta"
      },
      "execution_count": null,
      "outputs": []
    },
    {
      "cell_type": "code",
      "source": [
        "#compute Sin value\n",
        "\n",
        "c8 = np.sin(w)\n",
        "\n",
        "c8"
      ],
      "metadata": {
        "id": "VSAT89exwbJN"
      },
      "execution_count": null,
      "outputs": []
    },
    {
      "cell_type": "code",
      "source": [
        "#compute exponential value\n",
        "\n",
        "c8 = np.exp(w)\n",
        "\n",
        "c8"
      ],
      "metadata": {
        "id": "jeDSw0B6wimL"
      },
      "execution_count": null,
      "outputs": []
    },
    {
      "cell_type": "code",
      "source": [
        "#compute squar root value\n",
        "\n",
        "c8 = np.sqrt(w)\n",
        "\n",
        "c8"
      ],
      "metadata": {
        "id": "_AGHO2GTwkCb"
      },
      "execution_count": null,
      "outputs": []
    }
  ]
}